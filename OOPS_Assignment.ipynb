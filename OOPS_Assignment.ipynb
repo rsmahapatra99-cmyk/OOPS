{
  "nbformat": 4,
  "nbformat_minor": 0,
  "metadata": {
    "colab": {
      "provenance": []
    },
    "kernelspec": {
      "name": "python3",
      "display_name": "Python 3"
    },
    "language_info": {
      "name": "python"
    }
  },
  "cells": [
    {
      "cell_type": "markdown",
      "source": [
        "1. What is Object-Oriented Programming (OOP)?\n",
        "\n",
        "Object-Oriented Programming (OOP) is a programming paradigm centered around the concept of \"objects\", which are instances of classes. It is used to structure software in a way that models real-world entities and their interactions."
      ],
      "metadata": {
        "id": "NdsOcb7WmxUg"
      }
    },
    {
      "cell_type": "markdown",
      "source": [
        "2. What is a class in OOP?\n",
        "\n",
        "A class in OOP is like a blueprint or template used to create objects. It defines the attributes (data) and methods (behavior) that the objects created from the class will have."
      ],
      "metadata": {
        "id": "AH1WJO0FnUJG"
      }
    },
    {
      "cell_type": "markdown",
      "source": [
        "3. What is an object in OOP?\n",
        "\n",
        "An object in OOP is a real-world instance of a class that contains:\n",
        "\n",
        "Attributes (also called properties or fields) – data that describes the object.\n",
        "\n",
        "Methods – functions that define the behavior of the object.\n"
      ],
      "metadata": {
        "id": "ZVK3esyjoHm-"
      }
    },
    {
      "cell_type": "markdown",
      "source": [
        "4. What is the difference between abstraction and encapsulation?\n",
        "\n",
        "Abstraction — Hiding Complexity\n",
        "\n",
        "Abstraction means showing only the essential features of an object while hiding the unnecessary details.\n",
        "\n",
        "Encapsulation — Hiding Data\n",
        "\n",
        "Encapsulation means bundling the data (attributes) and methods (functions) that operate on that data into a single unit (a class), and restricting direct access to some of the object's components."
      ],
      "metadata": {
        "id": "3I_4h-ZbonYo"
      }
    },
    {
      "cell_type": "markdown",
      "source": [
        "5. What are dunder methods in Python?\n",
        "\n",
        "Dunder methods (short for \"double underscore\" methods), also known as magic methods or special methods, are built-in methods with double underscores at the beginning and end of their names — like __init__, __str__, __add__, etc."
      ],
      "metadata": {
        "id": "CKZ8pRywpahn"
      }
    },
    {
      "cell_type": "markdown",
      "source": [
        "6. Explain the concept of inheritance in OOP?\n",
        "\n",
        "Inheritance is an OOP concept that allows a class (child/subclass) to inherit properties and behaviors (attributes and methods) from another class (parent/superclass)."
      ],
      "metadata": {
        "id": "rtbXYSGOtI7w"
      }
    },
    {
      "cell_type": "markdown",
      "source": [
        "7. What is polymorphism in OOP?\n",
        "\n",
        "Polymorphism comes from Greek and means “many forms.”\n",
        "In OOP, polymorphism allows the same method or operation to behave differently based on the object that invokes it."
      ],
      "metadata": {
        "id": "cRVQkpSatXzP"
      }
    },
    {
      "cell_type": "markdown",
      "source": [
        "8. How is encapsulation achieved in Python+\n",
        "\n",
        "Encapsulation means restricting direct access to some of an object’s data (attributes) and only allowing it through controlled methods. It helps protect the integrity of the data and hides internal details."
      ],
      "metadata": {
        "id": "GJcg98EUtx1J"
      }
    },
    {
      "cell_type": "markdown",
      "source": [
        "9. What is a constructor in Python?\n",
        "\n",
        "A constructor is a special method in a class that gets called automatically when you create a new object (an instance) of that class. It’s used to initialize the object's attributes (set up the initial state)."
      ],
      "metadata": {
        "id": "hsHpIbPruwIn"
      }
    },
    {
      "cell_type": "markdown",
      "source": [
        "10.  What are class and static methods in Python?\n",
        "\n",
        "Class Methods-\n",
        "\n",
        "Defined with the @classmethod decorator.\n",
        "\n",
        "The first parameter is cls, which refers to the class itself, not an instance.\n",
        "\n",
        "Can access or modify class state (shared across all instances).\n",
        "\n",
        "Often used for alternative constructors or methods that affect the class as a whole.\n",
        "\n",
        "Static Methods-\n",
        "\n",
        "Defined with the @staticmethod decorator.\n",
        "\n",
        "Does not take self or cls parameters.\n",
        "\n",
        "Behaves like a regular function but lives in the class’s namespace.\n",
        "\n",
        "Used for utility functions related to the class but that don’t access instance or class data."
      ],
      "metadata": {
        "id": "S-lLJKyIu6X-"
      }
    },
    {
      "cell_type": "markdown",
      "source": [
        "11. What is method overloading in Python?\n",
        "\n",
        "Method overloading means having multiple methods with the same name but different parameters (number or type) in the same class. It allows you to call the same method in different ways depending on the arguments.\n"
      ],
      "metadata": {
        "id": "6v43R4OCvLYX"
      }
    },
    {
      "cell_type": "markdown",
      "source": [
        "12.  What is method overriding in OOP?\n",
        "\n",
        "Method overriding happens when a child (subclass) provides its own version of a method that is already defined in its parent (superclass). This allows the child class to customize or completely replace the behavior of that method."
      ],
      "metadata": {
        "id": "L-rxwbCPvYw2"
      }
    },
    {
      "cell_type": "markdown",
      "source": [
        "13. What is a property decorator in Python?\n",
        "\n",
        "The @property decorator in Python is a way to use methods like attributes — it allows you to define getter, setter, and deleter methods for class attributes, but access them as if they were simple attributes."
      ],
      "metadata": {
        "id": "mXzFrQzbvgw-"
      }
    },
    {
      "cell_type": "markdown",
      "source": [
        "14. Why is polymorphism important in OOP?\n",
        "\n",
        "Polymorphism is one of the core pillars of OOP because it provides flexibility, scalability, and maintainability to your code."
      ],
      "metadata": {
        "id": "8MY2aMEZvvUe"
      }
    },
    {
      "cell_type": "markdown",
      "source": [
        "15. What is an abstract class in Python?\n",
        "\n",
        "An abstract class is a class that cannot be instantiated on its own and is meant to be a blueprint for other classes. It defines methods that must be created (overridden) by its subclasses."
      ],
      "metadata": {
        "id": "vzdGz-mVv8cH"
      }
    },
    {
      "cell_type": "markdown",
      "source": [
        "16. What are the advantages of OOP?\n",
        "\n",
        "OOP brings several benefits that make software development more efficient, organized, and scalable. Here are the key advantages:\n",
        "\n",
        "1.  Modularity\n",
        "\n",
        "Code is organized into classes and objects, making it easier to manage and understand.\n",
        "\n",
        "Each class is a self-contained module, promoting separation of concerns.\n",
        "\n",
        "2. Reusability\n",
        "\n",
        "Classes can be reused across programs or projects.\n",
        "\n",
        "Through inheritance, you can create new classes based on existing ones, reducing code duplication.\n",
        "\n",
        "3. Scalability and Maintainability\n",
        "\n",
        "Easier to modify and extend existing code without affecting other parts.\n",
        "\n",
        "Polymorphism and encapsulation help isolate changes and reduce bugs.\n",
        "\n",
        "4. Data Encapsulation\n",
        "\n",
        "Keeps data safe and secure inside objects.\n",
        "\n",
        "Controls access to internal object data through methods (getters/setters).\n",
        "\n",
        "Prevents accidental corruption or misuse of data.\n",
        "\n",
        "5. Improved Productivity\n",
        "\n",
        "Clear structure and reusable components speed up development.\n",
        "\n",
        "Encourages use of design patterns and best practices.\n",
        "\n",
        "6.  Real-world Modeling\n",
        "\n",
        "Classes and objects closely represent real-world entities, making design intuitive.\n",
        "\n",
        "Helps in visualizing complex problems and systems.\n",
        "\n",
        "7.  Flexibility through Polymorphism\n",
        "\n",
        "Allows objects of different classes to be treated as instances of a common superclass.\n",
        "\n",
        "Enables writing generic, adaptable code.\n",
        "\n",
        "8. Code Maintenance\n",
        "\n",
        "Easier to troubleshoot, debug, and update.\n",
        "\n",
        "\n"
      ],
      "metadata": {
        "id": "OobGjwyRwGBu"
      }
    },
    {
      "cell_type": "markdown",
      "source": [
        "17. What is the difference between a class variable and an instance variable?\n",
        "\n",
        "Class variables = shared by all objects of the class, Inside the class but outside any methods, Stored once, shared by all objects, Accessed via class name or instance, For data common to all instances (e.g., constants, counters)\n",
        "\n",
        "Instance variables = unique to each object, Inside methods, usually inside __init__ with self, Stored separately for each object, Accessed via the instance (self), For data specific to each object’s state"
      ],
      "metadata": {
        "id": "T0IdwLj_w0MZ"
      }
    },
    {
      "cell_type": "markdown",
      "source": [
        "18. What is multiple inheritance in Python?\n",
        "\n",
        "Multiple inheritance is a feature in Python where a class can inherit attributes and methods from more than one parent class."
      ],
      "metadata": {
        "id": "IRM-Dsg7xWQg"
      }
    },
    {
      "cell_type": "markdown",
      "source": [
        "19. Explain the purpose of ‘’__str__’ and ‘__repr__’ ‘ methods in Python\n",
        "\n",
        "1. __repr__ (Representation)\n",
        "\n",
        "Intended to provide an official, unambiguous string representation of an object.\n",
        "\n",
        "Should ideally be a valid Python expression that can be used to recreate the object (when possible).\n",
        "\n",
        "Used by the repr() built-in function and in interactive interpreter sessions.\n",
        "\n",
        "Helps developers debug by showing detailed info.\n",
        "\n",
        "2.  __str__ (String)\n",
        "\n",
        "Intended to provide a readable, user-friendly string representation of an object.\n",
        "\n",
        "Used by the str() function and by print().\n",
        "\n",
        "Meant for end users or display purposes, less formal than __repr__.\n"
      ],
      "metadata": {
        "id": "GzxVLw_Xxg7X"
      }
    },
    {
      "cell_type": "markdown",
      "source": [
        "20. What is the significance of the ‘super()’ function in Python?\n",
        "\n",
        "The super() function is a built-in Python function that allows you to call methods from a parent (super) class inside a subclass. It's especially useful in inheritance to extend or modify parent class behavior without explicitly naming the parent class."
      ],
      "metadata": {
        "id": "q-BNdd-wxyTn"
      }
    },
    {
      "cell_type": "markdown",
      "source": [
        "21. What is the significance of the __del__ method in Python?\n",
        "\n",
        "The __del__ method is a special method in Python known as a destructor. It is called when an object is about to be destroyed — that is, when there are no more references to the object and the garbage collector is cleaning it up."
      ],
      "metadata": {
        "id": "04y7ZAn8x6zW"
      }
    },
    {
      "cell_type": "markdown",
      "source": [
        "22. What is the difference between @staticmethod and @classmethod in Python?\n",
        "\n",
        "Use @staticmethod when the method doesn’t need to access or modify class or instance data.\n",
        "\n",
        "Use @classmethod when the method needs to access or modify the class state, or create alternative constructors."
      ],
      "metadata": {
        "id": "deH0rIpWyD0u"
      }
    },
    {
      "cell_type": "markdown",
      "source": [
        "23. How does polymorphism work in Python with inheritance?\n",
        "\n",
        "Polymorphism + Inheritance in Python\n",
        "\n",
        "Polymorphism allows objects of different classes related by inheritance to be treated as instances of a common superclass, but they behave differently when the same method is called.\n",
        "\n",
        "How it works:\n",
        "\n",
        "You define a base class with some methods (often abstract or generic).\n",
        "\n",
        "You create subclasses that override these methods with their own implementations.\n",
        "\n",
        "When you call the method on a reference of the base class type, the actual method that runs depends on the object’s real subclass at runtime.\n",
        "\n",
        "This is called dynamic method dispatch or runtime polymorphism."
      ],
      "metadata": {
        "id": "ya2kAEMgySTm"
      }
    },
    {
      "cell_type": "markdown",
      "source": [
        "24. What is method chaining in Python OOP?\n",
        "\n",
        "Method chaining is a programming style where you call multiple methods one after another on the same object in a single line of code. Each method returns the object itself (usually self), so you can “chain” the calls together."
      ],
      "metadata": {
        "id": "r83gERzVyd8Q"
      }
    },
    {
      "cell_type": "markdown",
      "source": [
        "25. What is the purpose of the __call__ method in Python?\n",
        "\n",
        "The __call__ method is a special method that allows an instance of a class to be called like a function.\n",
        "\n",
        "Why use __call__?\n",
        "\n",
        "To make objects behave like functions.\n",
        "\n",
        "To implement function objects or callable objects.\n",
        "\n",
        "Useful in decorators, callbacks, or designing APIs where objects need to be callable."
      ],
      "metadata": {
        "id": "KzlE5rGyyqlY"
      }
    },
    {
      "cell_type": "code",
      "execution_count": 2,
      "metadata": {
        "colab": {
          "base_uri": "https://localhost:8080/"
        },
        "id": "7s_O84D4mlx6",
        "outputId": "e3dbcf56-5924-4f65-e065-06c6179d03d9"
      },
      "outputs": [
        {
          "output_type": "stream",
          "name": "stdout",
          "text": [
            "This animal makes a sound\n",
            "Bark!\n"
          ]
        }
      ],
      "source": [
        "# 1.  Create a parent class Animal with a method speak() that prints a generic message. Create a child class Dog that overrides the speak() method to print \"Bark!\".\n",
        "\n",
        "class Animal:\n",
        "    def speak(self):\n",
        "        print(\"This animal makes a sound\")\n",
        "\n",
        "class Dog(Animal):\n",
        "    def speak(self):\n",
        "        print(\"Bark!\")\n",
        "\n",
        "\n",
        "animal = Animal()\n",
        "animal.speak()\n",
        "\n",
        "dog = Dog()\n",
        "dog.speak()\n"
      ]
    },
    {
      "cell_type": "code",
      "source": [
        "# 2.  Write a program to create an abstract class Shape with a method area(). Derive classes Circle and Rectangle from it and implement the area() method in both\n",
        "\n",
        "from abc import ABC, abstractmethod\n",
        "import math\n",
        "\n",
        "# Abstract base class\n",
        "class Shape(ABC):\n",
        "    @abstractmethod\n",
        "    def area(self):\n",
        "        pass  # Abstract method to be implemented by subclasses\n",
        "\n",
        "# Derived class for Circle\n",
        "class Circle(Shape):\n",
        "    def __init__(self, radius):\n",
        "        self.radius = radius\n",
        "\n",
        "    def area(self):\n",
        "        return math.pi * (self.radius ** 2)\n",
        "\n",
        "# Derived class for Rectangle\n",
        "class Rectangle(Shape):\n",
        "    def __init__(self, width, height):\n",
        "        self.width = width\n",
        "        self.height = height\n",
        "\n",
        "    def area(self):\n",
        "        return self.width * self.height\n",
        "\n",
        "# Testing the classes\n",
        "circle = Circle(5)\n",
        "print(f\"Area of Circle: {circle.area():.2f}\")\n",
        "\n",
        "rectangle = Rectangle(4, 7)\n",
        "print(f\"Area of Rectangle: {rectangle.area()}\")\n"
      ],
      "metadata": {
        "colab": {
          "base_uri": "https://localhost:8080/"
        },
        "id": "ZVHL9dZ5zXHw",
        "outputId": "bcb77d83-aca9-4c3d-8902-24c56fb1a483"
      },
      "execution_count": 3,
      "outputs": [
        {
          "output_type": "stream",
          "name": "stdout",
          "text": [
            "Area of Circle: 78.54\n",
            "Area of Rectangle: 28\n"
          ]
        }
      ]
    },
    {
      "cell_type": "code",
      "source": [
        "# 3.  Implement a multi-level inheritance scenario where a class Vehicle has an attribute type. Derive a class Car and further derive a class ElectricCar that adds a battery attribute\n",
        "\n",
        "# Base class\n",
        "class Vehicle:\n",
        "    def __init__(self, vehicle_type):\n",
        "        self.type = vehicle_type\n",
        "\n",
        "    def show_type(self):\n",
        "        print(f\"Vehicle type: {self.type}\")\n",
        "\n",
        "# Derived class\n",
        "class Car(Vehicle):\n",
        "    def __init__(self, vehicle_type, brand):\n",
        "        super().__init__(vehicle_type)  # Initialize Vehicle part\n",
        "        self.brand = brand\n",
        "\n",
        "    def show_brand(self):\n",
        "        print(f\"Car brand: {self.brand}\")\n",
        "\n",
        "# Further derived class\n",
        "class ElectricCar(Car):\n",
        "    def __init__(self, vehicle_type, brand, battery_capacity):\n",
        "        super().__init__(vehicle_type, brand)  # Initialize Car and Vehicle parts\n",
        "        self.battery = battery_capacity\n",
        "\n",
        "    def show_battery(self):\n",
        "        print(f\"Battery capacity: {self.battery} kWh\")\n",
        "\n",
        "# Usage example:\n",
        "ecar = ElectricCar(\"Four-wheeler\", \"Tesla\", 100)\n",
        "ecar.show_type()      # Vehicle method\n",
        "ecar.show_brand()     # Car method\n",
        "ecar.show_battery()   # ElectricCar method\n"
      ],
      "metadata": {
        "colab": {
          "base_uri": "https://localhost:8080/"
        },
        "id": "g-XnrNhVz3Pj",
        "outputId": "a484ffac-e3a1-4b14-9235-e858ca76bf7c"
      },
      "execution_count": 4,
      "outputs": [
        {
          "output_type": "stream",
          "name": "stdout",
          "text": [
            "Vehicle type: Four-wheeler\n",
            "Car brand: Tesla\n",
            "Battery capacity: 100 kWh\n"
          ]
        }
      ]
    },
    {
      "cell_type": "code",
      "source": [
        "# 4. Demonstrate polymorphism by creating a base class Bird with a method fly(). Create two derived classes Sparrow and Penguin that override the fly() method\n",
        "\n",
        "class Bird:\n",
        "    def fly(self):\n",
        "        print(\"Some birds can fly\")\n",
        "\n",
        "class Sparrow(Bird):\n",
        "    def fly(self):\n",
        "        print(\"Sparrow can fly\")\n",
        "\n",
        "class Penguin(Bird):\n",
        "    def fly(self):\n",
        "        print(\"Penguins cannot fly\")\n",
        "\n",
        "# Function demonstrating polymorphism\n",
        "def let_bird_fly(bird):\n",
        "    bird.fly()\n",
        "\n",
        "# Create instances\n",
        "sparrow = Sparrow()\n",
        "penguin = Penguin()\n",
        "\n",
        "# Use the same function for different objects\n",
        "let_bird_fly(sparrow)\n",
        "let_bird_fly(penguin)\n"
      ],
      "metadata": {
        "colab": {
          "base_uri": "https://localhost:8080/"
        },
        "id": "eSYRSBNI0OBQ",
        "outputId": "663b5e15-74ef-48dd-f957-7fb4bb91561f"
      },
      "execution_count": 5,
      "outputs": [
        {
          "output_type": "stream",
          "name": "stdout",
          "text": [
            "Sparrow can fly\n",
            "Penguins cannot fly\n"
          ]
        }
      ]
    },
    {
      "cell_type": "code",
      "source": [
        "# 5. Write a program to demonstrate encapsulation by creating a class BankAccount with private attributes balance and methods to deposit, withdraw, and check balance.\n",
        "\n",
        "class BankAccount:\n",
        "    def __init__(self, initial_balance=0):\n",
        "        self.__balance = initial_balance  # Private attribute\n",
        "\n",
        "    def deposit(self, amount):\n",
        "        if amount > 0:\n",
        "            self.__balance += amount\n",
        "            print(f\"Deposited: ${amount}\")\n",
        "        else:\n",
        "            print(\"Deposit amount must be positive.\")\n",
        "\n",
        "    def withdraw(self, amount):\n",
        "        if 0 < amount <= self.__balance:\n",
        "            self.__balance -= amount\n",
        "            print(f\"Withdrawn: ${amount}\")\n",
        "        else:\n",
        "            print(\"Insufficient balance or invalid amount.\")\n",
        "\n",
        "    def check_balance(self):\n",
        "        print(f\"Current balance: ${self.__balance}\")\n",
        "\n",
        "# Usage example\n",
        "account = BankAccount(100)\n",
        "\n",
        "account.check_balance()\n",
        "account.deposit(50)\n",
        "account.withdraw(30)\n",
        "account.check_balance()\n",
        "\n"
      ],
      "metadata": {
        "colab": {
          "base_uri": "https://localhost:8080/"
        },
        "id": "izuoJgS90kSx",
        "outputId": "76746299-e6aa-42f9-ac3d-f06852972191"
      },
      "execution_count": 7,
      "outputs": [
        {
          "output_type": "stream",
          "name": "stdout",
          "text": [
            "Current balance: $100\n",
            "Deposited: $50\n",
            "Withdrawn: $30\n",
            "Current balance: $120\n"
          ]
        }
      ]
    },
    {
      "cell_type": "code",
      "source": [
        "# 6. Demonstrate runtime polymorphism using a method play() in a base class Instrument. Derive classes Guitar and Piano that implement their own version of play()\n",
        "\n",
        "class Instrument:\n",
        "    def play(self):\n",
        "        print(\"Playing an instrument\")\n",
        "\n",
        "class Guitar(Instrument):\n",
        "    def play(self):\n",
        "        print(\"Strumming the guitar\")\n",
        "\n",
        "class Piano(Instrument):\n",
        "    def play(self):\n",
        "        print(\"Playing the piano\")\n",
        "\n",
        "# Function to demonstrate runtime polymorphism\n",
        "def perform(instrument: Instrument):\n",
        "    instrument.play()  # Calls the appropriate version at runtime\n",
        "\n",
        "# Create instances\n",
        "guitar = Guitar()\n",
        "piano = Piano()\n",
        "\n",
        "# Pass different instrument objects to the same function\n",
        "perform(guitar)\n",
        "perform(piano)"
      ],
      "metadata": {
        "colab": {
          "base_uri": "https://localhost:8080/"
        },
        "id": "drXXagOW2JV0",
        "outputId": "8fc829ff-7c18-4be6-92ad-a2581e70c472"
      },
      "execution_count": 8,
      "outputs": [
        {
          "output_type": "stream",
          "name": "stdout",
          "text": [
            "Strumming the guitar\n",
            "Playing the piano\n"
          ]
        }
      ]
    },
    {
      "cell_type": "code",
      "source": [
        "# 7.  Create a class MathOperations with a class method add_numbers() to add two numbers and a static method subtract_numbers() to subtract two numbers\n",
        "\n",
        "class MathOperations:\n",
        "    @classmethod\n",
        "    def add_numbers(cls, a, b):\n",
        "        return a + b\n",
        "\n",
        "    @staticmethod\n",
        "    def subtract_numbers(a, b):\n",
        "        return a - b\n",
        "\n",
        "# Usage\n",
        "result1 = MathOperations.add_numbers(10, 5)\n",
        "print(f\"Addition result: {result1}\")\n",
        "\n",
        "result2 = MathOperations.subtract_numbers(10, 5)\n",
        "print(f\"Subtraction result: {result2}\")\n"
      ],
      "metadata": {
        "colab": {
          "base_uri": "https://localhost:8080/"
        },
        "id": "tBJ9lfaJ2io4",
        "outputId": "57650469-0b5b-4e07-85b8-43d496ffec14"
      },
      "execution_count": 9,
      "outputs": [
        {
          "output_type": "stream",
          "name": "stdout",
          "text": [
            "Addition result: 15\n",
            "Subtraction result: 5\n"
          ]
        }
      ]
    },
    {
      "cell_type": "code",
      "source": [
        "# 8.  Implement a class Person with a class method to count the total number of persons created.\n",
        "\n",
        "class Person:\n",
        "    _count = 0  # Class variable to track number of instances\n",
        "\n",
        "    def __init__(self, name):\n",
        "        self.name = name\n",
        "        Person._count += 1  # Increment count when a new Person is created\n",
        "\n",
        "    @classmethod\n",
        "    def get_person_count(cls):\n",
        "        return cls._count\n",
        "\n",
        "# Creating Person objects\n",
        "p1 = Person(\"Alice\")\n",
        "p2 = Person(\"Bob\")\n",
        "p3 = Person(\"Charlie\")\n",
        "\n",
        "# Getting the total number of persons created\n",
        "print(f\"Total persons created: {Person.get_person_count()}\")\n"
      ],
      "metadata": {
        "colab": {
          "base_uri": "https://localhost:8080/"
        },
        "id": "RLrJnI683Wgx",
        "outputId": "ab87fb91-7cc3-4cdd-f576-1866c9fce1dd"
      },
      "execution_count": 10,
      "outputs": [
        {
          "output_type": "stream",
          "name": "stdout",
          "text": [
            "Total persons created: 3\n"
          ]
        }
      ]
    },
    {
      "cell_type": "code",
      "source": [
        "# 9.  Write a class Fraction with attributes numerator and denominator. Override the str method to display the fraction as \"numerator/denominator\".\n",
        "\n",
        "class Fraction:\n",
        "    def __init__(self, numerator, denominator):\n",
        "        self.numerator = numerator\n",
        "        self.denominator = denominator\n",
        "\n",
        "    def __str__(self):\n",
        "        return f\"{self.numerator}/{self.denominator}\"\n",
        "\n",
        "# Usage\n",
        "f1 = Fraction(3, 4)\n",
        "f2 = Fraction(5, 8)\n",
        "\n",
        "print(f1)\n",
        "print(f2)\n"
      ],
      "metadata": {
        "colab": {
          "base_uri": "https://localhost:8080/"
        },
        "id": "xOTzaxD-3yan",
        "outputId": "9b75db58-35a9-4353-d917-2f98c23f84fc"
      },
      "execution_count": 11,
      "outputs": [
        {
          "output_type": "stream",
          "name": "stdout",
          "text": [
            "3/4\n",
            "5/8\n"
          ]
        }
      ]
    },
    {
      "cell_type": "code",
      "source": [
        "# 10.  Demonstrate operator overloading by creating a class Vector and overriding the add method to add two vectors.\n",
        "\n",
        "class Vector:\n",
        "    def __init__(self, x, y):\n",
        "        self.x = x\n",
        "        self.y = y\n",
        "\n",
        "    def __add__(self, other):\n",
        "        if isinstance(other, Vector):\n",
        "            return Vector(self.x + other.x, self.y + other.y)\n",
        "        return NotImplemented\n",
        "\n",
        "    def __str__(self):\n",
        "        return f\"Vector({self.x}, {self.y})\"\n",
        "\n",
        "# Usage\n",
        "v1 = Vector(2, 3)\n",
        "v2 = Vector(4, 5)\n",
        "\n",
        "v3 = v1 + v2\n",
        "print(v3)\n"
      ],
      "metadata": {
        "colab": {
          "base_uri": "https://localhost:8080/"
        },
        "id": "Ni_8wbJE4Hhn",
        "outputId": "e5df0cb4-e332-4aad-bf7e-0092976b416d"
      },
      "execution_count": 12,
      "outputs": [
        {
          "output_type": "stream",
          "name": "stdout",
          "text": [
            "Vector(6, 8)\n"
          ]
        }
      ]
    },
    {
      "cell_type": "code",
      "source": [
        "# 11.  Create a class Person with attributes name and age. Add a method greet() that prints \"Hello, my name is {name} and I am {age} years old.\"\n",
        "\n",
        "class Person:\n",
        "    def __init__(self, name, age):\n",
        "        self.name = name\n",
        "        self.age = age\n",
        "\n",
        "    def greet(self):\n",
        "        print(f\"Hello, my name is {self.name} and I am {self.age} years old.\")\n",
        "\n",
        "# Usage\n",
        "p1 = Person(\"Alice\", 25)\n",
        "p2 = Person(\"Bob\", 30)\n",
        "\n",
        "p1.greet()\n",
        "p2.greet()\n"
      ],
      "metadata": {
        "colab": {
          "base_uri": "https://localhost:8080/"
        },
        "id": "VbTyTVKm4V4Z",
        "outputId": "43480381-5c86-41be-dca7-49f43666ce22"
      },
      "execution_count": 13,
      "outputs": [
        {
          "output_type": "stream",
          "name": "stdout",
          "text": [
            "Hello, my name is Alice and I am 25 years old.\n",
            "Hello, my name is Bob and I am 30 years old.\n"
          ]
        }
      ]
    },
    {
      "cell_type": "code",
      "source": [
        "# 12.  Implement a class Student with attributes name and grades. Create a method average_grade() to compute the average of the grades.\n",
        "\n",
        "class Student:\n",
        "    def __init__(self, name, grades):\n",
        "        self.name = name\n",
        "        self.grades = grades  # List of grades (e.g. [80, 90, 85])\n",
        "\n",
        "    def average_grade(self):\n",
        "        if not self.grades:\n",
        "            return 0  # Avoid division by zero\n",
        "        return sum(self.grades) / len(self.grades)\n",
        "\n",
        "# Usage\n",
        "s1 = Student(\"Alice\", [85, 90, 78])\n",
        "s2 = Student(\"Bob\", [92, 88, 95, 91])\n",
        "\n",
        "print(f\"{s1.name}'s average grade: {s1.average_grade():.2f}\")\n",
        "print(f\"{s2.name}'s average grade: {s2.average_grade():.2f}\")\n"
      ],
      "metadata": {
        "colab": {
          "base_uri": "https://localhost:8080/"
        },
        "id": "UFLRxkIN5Wc7",
        "outputId": "b5230511-114e-4c72-c1f5-21809d12c393"
      },
      "execution_count": 14,
      "outputs": [
        {
          "output_type": "stream",
          "name": "stdout",
          "text": [
            "Alice's average grade: 84.33\n",
            "Bob's average grade: 91.50\n"
          ]
        }
      ]
    },
    {
      "cell_type": "code",
      "source": [
        "# 13.  Create a class Rectangle with methods set_dimensions() to set the dimensions and area() to calculate the area.\n",
        "\n",
        "class Rectangle:\n",
        "    def __init__(self):\n",
        "        self.width = 0\n",
        "        self.height = 0\n",
        "\n",
        "    def set_dimensions(self, width, height):\n",
        "        self.width = width\n",
        "        self.height = height\n",
        "\n",
        "    def area(self):\n",
        "        return self.width * self.height\n",
        "\n",
        "# Usage\n",
        "rect = Rectangle()\n",
        "rect.set_dimensions(5, 10)\n",
        "print(f\"Area of rectangle: {rect.area()}\")\n"
      ],
      "metadata": {
        "colab": {
          "base_uri": "https://localhost:8080/"
        },
        "id": "hQuakyQ75nto",
        "outputId": "be4d9ae4-0ea0-46de-dcb2-68789c5b7fe5"
      },
      "execution_count": 15,
      "outputs": [
        {
          "output_type": "stream",
          "name": "stdout",
          "text": [
            "Area of rectangle: 50\n"
          ]
        }
      ]
    },
    {
      "cell_type": "code",
      "source": [
        "# 14. Create a class Employee with a method calculate_salary() that computes the salary based on hours worked and hourly rate. Create a derived class Manager that adds a bonus to the salary.\n",
        "\n",
        "class Employee:\n",
        "    def __init__(self, name, hours_worked, hourly_rate):\n",
        "        self.name = name\n",
        "        self.hours_worked = hours_worked\n",
        "        self.hourly_rate = hourly_rate\n",
        "\n",
        "    def calculate_salary(self):\n",
        "        return self.hours_worked * self.hourly_rate\n",
        "\n",
        "class Manager(Employee):\n",
        "    def __init__(self, name, hours_worked, hourly_rate, bonus):\n",
        "        super().__init__(name, hours_worked, hourly_rate)\n",
        "        self.bonus = bonus\n",
        "\n",
        "    def calculate_salary(self):\n",
        "        base_salary = super().calculate_salary()\n",
        "        return base_salary + self.bonus\n",
        "\n",
        "# Usage\n",
        "emp = Employee(\"Alice\", 40, 20)\n",
        "print(f\"{emp.name}'s salary: ${emp.calculate_salary()}\")\n",
        "\n",
        "mgr = Manager(\"Bob\", 45, 30, 500)\n",
        "print(f\"{mgr.name}'s salary (with bonus): ${mgr.calculate_salary()}\")\n"
      ],
      "metadata": {
        "colab": {
          "base_uri": "https://localhost:8080/"
        },
        "id": "4rm8k_Sq50tk",
        "outputId": "6fa10780-dfcd-4732-bf10-55d997a970db"
      },
      "execution_count": 16,
      "outputs": [
        {
          "output_type": "stream",
          "name": "stdout",
          "text": [
            "Alice's salary: $800\n",
            "Bob's salary (with bonus): $1850\n"
          ]
        }
      ]
    },
    {
      "cell_type": "code",
      "source": [
        "# 15. Create a class Product with attributes name, price, and quantity. Implement a method total_price() that calculates the total price of the product.\n",
        "\n",
        "class Product:\n",
        "    def __init__(self, name, price, quantity):\n",
        "        self.name = name\n",
        "        self.price = price\n",
        "        self.quantity = quantity\n",
        "\n",
        "    def total_price(self):\n",
        "        return self.price * self.quantity\n",
        "\n",
        "# Usage\n",
        "p = Product(\"Laptop\", 1200, 3)\n",
        "print(f\"Total price for {p.quantity} {p.name}(s): ${p.total_price()}\")\n"
      ],
      "metadata": {
        "colab": {
          "base_uri": "https://localhost:8080/"
        },
        "id": "nx9nH8zn6Cm4",
        "outputId": "f0f3fe6d-5c74-4a9d-9d19-987b7fe249c2"
      },
      "execution_count": 17,
      "outputs": [
        {
          "output_type": "stream",
          "name": "stdout",
          "text": [
            "Total price for 3 Laptop(s): $3600\n"
          ]
        }
      ]
    },
    {
      "cell_type": "code",
      "source": [
        "# 16. Create a class Animal with an abstract method sound(). Create two derived classes Cow and Sheep that implement the sound() method.\n",
        "\n",
        "\n",
        "from abc import ABC, abstractmethod\n",
        "\n",
        "class Animal(ABC):\n",
        "    @abstractmethod\n",
        "    def sound(self):\n",
        "        pass  # Abstract method to be implemented by subclasses\n",
        "\n",
        "class Cow(Animal):\n",
        "    def sound(self):\n",
        "        print(\"Moo\")\n",
        "\n",
        "class Sheep(Animal):\n",
        "    def sound(self):\n",
        "        print(\"Baa\")\n",
        "\n",
        "# Usage\n",
        "cow = Cow()\n",
        "sheep = Sheep()\n",
        "\n",
        "cow.sound()\n",
        "sheep.sound()\n"
      ],
      "metadata": {
        "colab": {
          "base_uri": "https://localhost:8080/"
        },
        "id": "ydINwgdY6OJW",
        "outputId": "335edbef-3d01-41f9-81e3-301d1f5be242"
      },
      "execution_count": 18,
      "outputs": [
        {
          "output_type": "stream",
          "name": "stdout",
          "text": [
            "Moo\n",
            "Baa\n"
          ]
        }
      ]
    },
    {
      "cell_type": "code",
      "source": [
        "# 17. Create a class Book with attributes title, author, and year_published. Add a method get_book_info() that returns a formatted string with the book's details\n",
        "\n",
        "\n",
        "class Book:\n",
        "    def __init__(self, title, author, year_published):\n",
        "        self.title = title\n",
        "        self.author = author\n",
        "        self.year_published = year_published\n",
        "\n",
        "    def get_book_info(self):\n",
        "        return f\"'{self.title}' by {self.author}, published in {self.year_published}\"\n",
        "\n",
        "# Usage\n",
        "book = Book(\"1984\", \"George Orwell\", 1949)\n",
        "print(book.get_book_info())\n"
      ],
      "metadata": {
        "colab": {
          "base_uri": "https://localhost:8080/"
        },
        "id": "nh3hwTpQ6Ykj",
        "outputId": "99f765d5-c367-42cc-9259-084a436df391"
      },
      "execution_count": 19,
      "outputs": [
        {
          "output_type": "stream",
          "name": "stdout",
          "text": [
            "'1984' by George Orwell, published in 1949\n"
          ]
        }
      ]
    },
    {
      "cell_type": "code",
      "source": [
        "# 18. Create a class House with attributes address and price. Create a derived class Mansion that adds an attribute number_of_rooms.\n",
        "\n",
        "class House:\n",
        "    def __init__(self, address, price):\n",
        "        self.address = address\n",
        "        self.price = price\n",
        "\n",
        "    def display_info(self):\n",
        "        print(f\"Address: {self.address}\")\n",
        "        print(f\"Price: ${self.price}\")\n",
        "\n",
        "class Mansion(House):\n",
        "    def __init__(self, address, price, number_of_rooms):\n",
        "        super().__init__(address, price)  # Initialize House attributes\n",
        "        self.number_of_rooms = number_of_rooms\n",
        "\n",
        "    def display_info(self):\n",
        "        super().display_info()\n",
        "        print(f\"Number of rooms: {self.number_of_rooms}\")\n",
        "\n",
        "# Usage\n",
        "house = House(\"123 Elm St\", 250000)\n",
        "mansion = Mansion(\"456 Oak Ave\", 2000000, 10)\n",
        "\n",
        "house.display_info()\n",
        "print(\"---\")\n",
        "mansion.display_info()\n"
      ],
      "metadata": {
        "colab": {
          "base_uri": "https://localhost:8080/"
        },
        "id": "65q9ciXv6m5a",
        "outputId": "38e54225-9924-4566-8c0d-8eeb0f5e527b"
      },
      "execution_count": 20,
      "outputs": [
        {
          "output_type": "stream",
          "name": "stdout",
          "text": [
            "Address: 123 Elm St\n",
            "Price: $250000\n",
            "---\n",
            "Address: 456 Oak Ave\n",
            "Price: $2000000\n",
            "Number of rooms: 10\n"
          ]
        }
      ]
    },
    {
      "cell_type": "code",
      "source": [],
      "metadata": {
        "id": "cjelSAZ26y1R"
      },
      "execution_count": null,
      "outputs": []
    }
  ]
}